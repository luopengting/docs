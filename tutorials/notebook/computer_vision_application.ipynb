{
 "cells": [
  {
   "cell_type": "markdown",
   "metadata": {},
   "source": [
    "#                                计算机视觉的应用"
   ]
  },
  {
   "cell_type": "markdown",
   "metadata": {},
   "source": [
    "## 概述\n",
    "\n",
    "计算机视觉是当前深度学习研究最广泛、落地最成熟的技术领域，在手机拍照、智能安防、自动驾驶等场景有广泛应用。从2012年AlexNet在ImageNet比赛夺冠以来，深度学习深刻推动了计算机视觉领域的发展，当前最先进的计算机视觉算法几乎都是深度学习相关的。深度神经网络可以逐层提取图像特征，并保持局部不变性，被广泛应用于分类、检测、分割、跟踪、检索、识别、提升、重建等视觉任务中。\n",
    "本次体验结合图像分类任务，介绍MindSpore如何应用于计算机视觉场景，如何训练模型，得出一个性能较优的模型。\n"
   ]
  },
  {
   "cell_type": "markdown",
   "metadata": {},
   "source": [
    "## 图像分类\n",
    "\n",
    "图像分类是最基础的计算机视觉应用，属于有监督学习类别。给定一张数字图像，判断图像所属的类别，如猫、狗、飞机、汽车等等。用函数来表示这个过程如下："
   ]
  },
  {
   "cell_type": "markdown",
   "metadata": {},
   "source": [
    "```python\n",
    "def classify(image):\n",
    "   label = model(image)\n",
    "   return label\n",
    "```"
   ]
  },
  {
   "cell_type": "markdown",
   "metadata": {},
   "source": [
    "定义的分类函数，以图片数据`image`为输入，通过`model`方法对`image`进行分类，最后返回分类结果。选择合适的`model`是关键。这里的`model`一般指的是深度卷积神经网络，如AlexNet、VGG、GoogLeNet、ResNet等等。"
   ]
  },
  {
   "cell_type": "markdown",
   "metadata": {},
   "source": [
    "下面按照MindSpore的训练数据模型的正常步骤进行，当使用到MindSpore或者图像分类操作时，会增加相应的说明，本次体验的整体流程如下："
   ]
  },
  {
   "cell_type": "markdown",
   "metadata": {},
   "source": [
    "1. 数据集的准备，这里使用的是CIFAR-10数据集。\n",
    "\n",
    "2. 构建一个卷积神经网络，这里使用ResNet-50网络。\n",
    "\n",
    "3. 定义损失函数和优化器。\n",
    "\n",
    "4. 调用Model高阶API进行训练和保存模型文件。\n",
    "\n",
    "5. 加载保存的模型进行验证。"
   ]
  },
  {
   "cell_type": "markdown",
   "metadata": {},
   "source": [
    "本次面向Ascend 910 AI处理器硬件平台,将卷积神经网络ResNet加入到案例中，你可以在这里下载完整的样例代码案例作为基础用例：\n",
    "https://gitee.com/mindspore/docs/tree/r1.0/tutorials/tutorial_code/resnet"
   ]
  },
  {
   "cell_type": "markdown",
   "metadata": {},
   "source": [
    "## 训练数据集下载\n",
    "\n",
    "### 数据集准备"
   ]
  },
  {
   "cell_type": "markdown",
   "metadata": {},
   "source": [
    "#### 方法一：\n",
    "\n",
    "数据集可以从CIFAR-10数据集的官网进行下载：https://www.cs.toronto.edu/~kriz/cifar.html\n",
    "将数据集的解压缩文件夹`cifar-10-binary`放在Jupyter工作目录下。"
   ]
  },
  {
   "cell_type": "markdown",
   "metadata": {},
   "source": [
    "#### 方法二:\n",
    "\n",
    "linux环境下用如下的命令 `wget https://www.cs.toronto.edu/~kriz/cifar-10-binary.tar.gz`。\n",
    "接下来需要解压数据集，解压命令如下：`tar -zvxf cifar-10-binary.tar.gz`。"
   ]
  },
  {
   "cell_type": "markdown",
   "metadata": {},
   "source": [
    "### 数据处理\n",
    "\n",
    "数据集处理对于训练非常重要，好的数据集可以有效提高训练精度和效率。在加载数据集前，我们通常会对数据集进行一些处理。这里我们用到了数据增强，数据混洗和批处理。"
   ]
  },
  {
   "cell_type": "markdown",
   "metadata": {},
   "source": [
    "导入`argparse`模块，将9个参数传入`args_opt`变量包括："
   ]
  },
  {
   "cell_type": "markdown",
   "metadata": {},
   "source": [
    "- `run_distribute`：控制是否进行初始化。\n",
    "- `device_num`：设置使用device的个数。\n",
    "- `do_train`：设置是否进行训练。\n",
    "- `do_eval`：设置是否计算最后的误差结果。\n",
    "- `epoch_size`：设置迭代次数。\n",
    "- `batch_size`：设置批次大小。\n",
    "- `num_classes`：设置分成多少个类。\n",
    "- `checkpoint_path`：设置CheckPoint文件路径。\n",
    "- `dataset_path`：数据集的路径。"
   ]
  },
  {
   "cell_type": "code",
   "execution_count": 1,
   "metadata": {},
   "outputs": [],
   "source": [
    "import os\n",
    "import random\n",
    "import argparse\n",
    "from mindspore import Tensor\n",
    "\n",
    "# Set Training Parameters \n",
    "random.seed(1)\n",
    "parser = argparse.ArgumentParser(description='Image classification')\n",
    "parser.add_argument('--run_distribute', type=bool, default=False, help='Run distribute.')\n",
    "# Set device number\n",
    "parser.add_argument('--device_num', type=int, default=0, help='Device num.')\n",
    "parser.add_argument('--device_target', type=str, default=\"Ascend\", help='Choice device Ascend or GPU')\n",
    "# Set whether do train\n",
    "parser.add_argument('--do_train', type=bool, default=True, help='Do train or not.')\n",
    "# Set whether do eval\n",
    "parser.add_argument('--do_eval', type=bool, default=True, help='Do eval or not.')\n",
    "# Set epoch size which is used to adjust model performance.\n",
    "parser.add_argument('--epoch_size', type=int, default=10, help='Epoch size.')\n",
    "parser.add_argument('--batch_size', type=int, default=32, help='Batch size.')\n",
    "# Set class number\n",
    "parser.add_argument('--num_classes', type=int, default=10, help='Num classes.')\n",
    "parser.add_argument('--checkpoint_path', type=str, default=None, help='CheckPoint file path.')\n",
    "parser.add_argument('--dataset_path', type=str, default=None, help='Dataset path.')\n",
    "args_opt = parser.parse_known_args()[0]\n"
   ]
  },
  {
   "cell_type": "markdown",
   "metadata": {},
   "source": [
    "设置设备ID和数据集的路径，并设置处理器为Ascend。"
   ]
  },
  {
   "cell_type": "code",
   "execution_count": 2,
   "metadata": {},
   "outputs": [],
   "source": [
    "from mindspore import context\n",
    "\n",
    "# Set the data set path\n",
    "data_home = './cifar-10-batches-bin'\n",
    "context.set_context(mode=context.GRAPH_MODE, device_target=args_opt.device_target)\n",
    "if args_opt.device_target == \"Ascend\":\n",
    "    device_id = int(os.getenv(\"DEVICE_ID\"))\n",
    "    context.set_context(device_id=device_id)"
   ]
  },
  {
   "cell_type": "markdown",
   "metadata": {},
   "source": [
    "数据增强主要是对数据进行归一化和丰富数据样本数量。常见的数据增强方式包括裁剪、翻转、色彩变化等等。MindSpore通过调用`map`方法在图片上执行增强操作。数据混洗和批处理主要是通过数据混洗`shuffle`随机打乱数据的顺序，并按`batch`读取数据，进行模型训练。"
   ]
  },
  {
   "cell_type": "markdown",
   "metadata": {},
   "source": [
    "构建`create_dataset`函数，来创建数据集。通过设置` resize_height`、`resize_width`、`rescale`、`shift`参数，定义`map`以及在图片上运用`map`实现数据增强。"
   ]
  },
  {
   "cell_type": "code",
   "execution_count": 3,
   "metadata": {},
   "outputs": [],
   "source": [
    "import mindspore.nn as nn\n",
    "import mindspore.common.dtype as mstype\n",
    "import mindspore.dataset as ds\n",
    "import mindspore.dataset.vision.c_transforms as C\n",
    "import mindspore.dataset.transforms.c_transforms as C2\n",
    "\n",
    "\n",
    "def create_dataset(data_home, repeat_num=1, training=True):\n",
    "    \"\"\"\n",
    "    create data for next use such as training or inferring\n",
    "    \"\"\"\n",
    "    cifar_ds = ds.Cifar10Dataset(data_home)\n",
    "\n",
    "    if args_opt.run_distribute:\n",
    "        rank_id = int(os.getenv('RANK_ID'))\n",
    "        rank_size = int(os.getenv('RANK_SIZE'))\n",
    "        cifar_ds = ds.Cifar10Dataset(data_home, num_shards=rank_size, shard_id=rank_id)\n",
    "\n",
    "    # Data enhancement \n",
    "    resize_height = 224\n",
    "    resize_width = 224\n",
    "    rescale = 1.0 / 255.0\n",
    "    shift = 0.0\n",
    " \n",
    "    # Define map operations\n",
    "    # Padding_mode default CONSTANT\n",
    "    random_crop_op = C.RandomCrop((32, 32), (4, 4, 4, 4)) \n",
    "    random_horizontal_op = C.RandomHorizontalFlip()\n",
    "    # Interpolation default BILINEAR\n",
    "    resize_op = C.Resize((resize_height, resize_width))\n",
    "    rescale_op = C.Rescale(rescale, shift)\n",
    "    normalize_op = C.Normalize((0.4914, 0.4822, 0.4465), (0.2023, 0.1994, 0.2010))\n",
    "    changeswap_op = C.HWC2CHW()\n",
    "    type_cast_op = C2.TypeCast(mstype.int32)\n",
    "\n",
    "    c_trans = []\n",
    "    if training:\n",
    "        c_trans = [random_crop_op, random_horizontal_op]\n",
    "    c_trans += [resize_op, rescale_op, normalize_op,\n",
    "                changeswap_op]\n",
    "\n",
    "    # Apply map operations on images\n",
    "    cifar_ds = cifar_ds.map(operations=type_cast_op, input_columns=\"label\")\n",
    "    cifar_ds = cifar_ds.map(operations=c_trans, input_columns=\"image\")\n",
    "\n",
    "    # Apply shuffle operations\n",
    "    cifar_ds = cifar_ds.shuffle(buffer_size=10)\n",
    "\n",
    "    # Apply batch operations\n",
    "    cifar_ds = cifar_ds.batch(batch_size=args_opt.batch_size, drop_remainder=True)\n",
    "\n",
    "    # Apply repeat operations\n",
    "    cifar_ds = cifar_ds.repeat(repeat_num)\n",
    "\n",
    "    return cifar_ds"
   ]
  },
  {
   "cell_type": "markdown",
   "metadata": {},
   "source": [
    "数据集生成后，我们可以通过`imshow`方法对数据集`cifar_ds`进行可视化。这里可以得到CIFAR-10数据集中的一张图片。"
   ]
  },
  {
   "cell_type": "code",
   "execution_count": 4,
   "metadata": {},
   "outputs": [
    {
     "name": "stderr",
     "output_type": "stream",
     "text": [
      "Clipping input data to the valid range for imshow with RGB data ([0..1] for floats or [0..255] for integers).\n"
     ]
    },
    {
     "data": {
      "text/plain": [
       "<matplotlib.image.AxesImage at 0x7f8299206e90>"
      ]
     },
     "execution_count": 4,
     "metadata": {},
     "output_type": "execute_result"
    },
    {
     "data": {
      "image/png": "[encoded data removed]",
      "text/plain": [
       "<Figure size 432x288 with 1 Axes>"
      ]
     },
     "metadata": {
      "needs_background": "light"
     },
     "output_type": "display_data"
    }
   ],
   "source": [
    "import numpy as np\n",
    "import matplotlib.pyplot as plt\n",
    "dataset_show = create_dataset(data_home)\n",
    "iterator_show= dataset_show.create_dict_iterator()\n",
    "images = iterator_show.get_next()[\"image\"].asnumpy()\n",
    "# Images[0].shape is (3,224,224).We need transpose as (224,224,3) for using in plt.show().\n",
    "picture_show = np.transpose(images[0],(1,2,0))\n",
    "plt.imshow(picture_show)\n"
   ]
  },
  {
   "cell_type": "markdown",
   "metadata": {},
   "source": [
    "## 定义卷积神经网络\n",
    "\n",
    "卷积神经网络已经是图像分类任务的标准算法了。卷积神经网络采用分层的结构对图片进行特征提取，由一系列的网络层堆叠而成，比如卷积层、池化层、激活层等等。\n",
    "ResNet-50通常是较好的选择。首先，它足够深，常见的有34层，50层，101层。通常层次越深，表征能力越强，分类准确率越高。其次，可学习，采用了残差结构，通过shortcut连接把低层直接跟高层相连，解决了反向传播过程中因为网络太深造成的梯度消失问题。此外，ResNet-50网络的性能很好，既表现为识别的准确率，也包括它本身模型的大小和参数量。"
   ]
  },
  {
   "cell_type": "markdown",
   "metadata": {},
   "source": [
    "在构建ResNet-50网络中，初始化参数，通过判断`args`的参数，用户决定用哪些功能。\n",
    "可以通过改变`epoch_size`来调节模型，获得更好的性能。"
   ]
  },
  {
   "cell_type": "code",
   "execution_count": 5,
   "metadata": {},
   "outputs": [],
   "source": [
    "from mindspore.communication.management import init\n",
    "from mindspore.train.model import Model\n",
    "from mindspore.context import ParallelMode\n",
    "from resnet import resnet50\n",
    "from mindspore.parallel._auto_parallel_context import auto_parallel_context\n",
    "\n",
    "# In this way by judging the mark of args, users will decide which function to use\n",
    "if not args_opt.do_eval and args_opt.run_distribute:\n",
    "    context.set_auto_parallel_context(device_num=args_opt.device_num, parallel_mode=ParallelMode.DATA_PARALLEL)\n",
    "    auto_parallel_context().set_all_reduce_fusion_split_indices([140])\n",
    "    init()\n",
    "epoch_size = args_opt.epoch_size\n",
    "net = resnet50(args_opt.batch_size, args_opt.num_classes)"
   ]
  },
  {
   "cell_type": "markdown",
   "metadata": {},
   "source": [
    "## 定义损失函数和优化器\n",
    "\n",
    "接下来需要定义损失函数（Loss）和优化器（Optimizer）。损失函数是深度学习的训练目标，也叫目标函数，可以理解为神经网络的输出（Logits）和标签(Labels)之间的距离，是一个标量数据。\n",
    "常见的损失函数包括均方误差、L2损失、Hinge损失、交叉熵等等。图像分类应用通常采用交叉熵损失（CrossEntropy）。\n",
    "优化器用于神经网络求解（训练）。由于神经网络参数规模庞大，无法直接求解，因而深度学习中采用随机梯度下降算法（SGD）及其改进算法进行求解。MindSpore封装了常见的优化器，如SGD、ADAM、Momemtum等等。本例采用Momentum优化器，通常需要设定两个参数，动量（moment）和权重衰减项（weight decay）。"
   ]
  },
  {
   "cell_type": "markdown",
   "metadata": {},
   "source": [
    "通过调用MindSpore中的API：`Momentum`和`SoftmaxCrossEntropyWithLogits`，设置损失函数和优化器的参数。"
   ]
  },
  {
   "cell_type": "code",
   "execution_count": 6,
   "metadata": {
    "scrolled": false
   },
   "outputs": [],
   "source": [
    "from mindspore.nn.optim.momentum import Momentum\n",
    "from mindspore.nn.loss import SoftmaxCrossEntropyWithLogits\n",
    "\n",
    "ls = SoftmaxCrossEntropyWithLogits(sparse=True, reduction=\"mean\")\n",
    "opt = Momentum(filter(lambda x: x.requires_grad, net.get_parameters()), 0.01, 0.9)"
   ]
  },
  {
   "cell_type": "markdown",
   "metadata": {},
   "source": [
    "## 调用Model高阶API进行训练和保存模型文件\n",
    "\n",
    "完成数据预处理、网络定义、损失函数和优化器定义之后，就可以进行模型训练了。模型训练包含两层迭代，数据集的多轮迭代（epoch）和一轮数据集内按分组（batch）大小进行的单步迭代。其中，单步迭代指的是按分组从数据集中抽取数据，输入到网络中计算得到损失函数，然后通过优化器计算和更新训练参数的梯度。\n",
    "\n",
    "为了简化训练过程，MindSpore封装了Model高阶接口。用户输入网络、损失函数和优化器完成Model的初始化，然后调用`train`接口进行训练，`train`接口参数包括迭代次数`epoch`和数据集`dataset`。\n",
    "\n",
    "模型保存是对训练参数进行持久化的过程。`Model`类中通过回调函数的方式进行模型保存，如下面代码所示。用户通过`CheckpointConfig`设置回调函数的参数，其中，`save_checkpoint_steps`指每经过固定的单步迭代次数保存一次模型，`keep_checkpoint_max`指最多保存的模型个数。"
   ]
  },
  {
   "cell_type": "markdown",
   "metadata": {},
   "source": [
    "本次体验选择`epoch_size`为10，一共迭代了十次，得到如下的运行结果。体验者可以自行设置不同的`epoch_size`，生成不同的模型，在下面的验证部分查看模型精确度。"
   ]
  },
  {
   "cell_type": "code",
   "execution_count": 7,
   "metadata": {},
   "outputs": [
    {
     "name": "stderr",
     "output_type": "stream",
     "text": [
      "[INFO] ME(27502:140200539502400,MainProcess):2020-07-18-00:00:19.338.911 [mindspore/train/serialization.py:320] Execute save the graph process.\n",
      "[INFO] ME(27502:140200539502400,MainProcess):2020-07-18-00:00:26.722.576 [mindspore/train/callback/_callback.py:52] update parameters in the net.\n",
      "[INFO] ME(27502:140200539502400,MainProcess):2020-07-18-00:00:26.857.220 [mindspore/train/serialization.py:262] Execute load parameter into net process.\n",
      "[INFO] ME(27502:140200539502400,MainProcess):2020-07-18-00:00:26.901.030 [mindspore/train/serialization.py:284] Load parameter into net finish, 0 parameters has not been loaded.\n",
      "[INFO] ME(27502:140200539502400,MainProcess):2020-07-18-00:00:26.905.358 [mindspore/train/serialization.py:138] Execute save checkpoint process.\n",
      "[INFO] ME(27502:140200539502400,MainProcess):2020-07-18-00:00:27.502.16 [mindspore/train/serialization.py:164] Save checkpoint process finish.\n"
     ]
    },
    {
     "name": "stdout",
     "output_type": "stream",
     "text": [
      "epoch: 1 step: 1875, loss is 1.2926\n",
      "Epoch time: 105040.679, per step time: 56.022, avg loss: 1.293\n",
      "************************************************************\n"
     ]
    },
    {
     "name": "stderr",
     "output_type": "stream",
     "text": [
      "[INFO] ME(27502:140200539502400,MainProcess):2020-07-18-00:01:25.345.641 [mindspore/train/callback/_callback.py:52] update parameters in the net.\n",
      "[INFO] ME(27502:140200539502400,MainProcess):2020-07-18-00:01:25.410.278 [mindspore/train/serialization.py:262] Execute load parameter into net process.\n",
      "[INFO] ME(27502:140200539502400,MainProcess):2020-07-18-00:01:25.453.675 [mindspore/train/serialization.py:284] Load parameter into net finish, 0 parameters has not been loaded.\n",
      "[INFO] ME(27502:140200539502400,MainProcess):2020-07-18-00:01:25.457.693 [mindspore/train/serialization.py:138] Execute save checkpoint process.\n",
      "[INFO] ME(27502:140200539502400,MainProcess):2020-07-18-00:01:25.650.828 [mindspore/train/serialization.py:164] Save checkpoint process finish.\n"
     ]
    },
    {
     "name": "stdout",
     "output_type": "stream",
     "text": [
      "epoch: 2 step: 1875, loss is 0.8226\n",
      "Epoch time: 58600.447, per step time: 31.254, avg loss: 0.823\n",
      "************************************************************\n"
     ]
    },
    {
     "name": "stderr",
     "output_type": "stream",
     "text": [
      "[INFO] ME(27502:140200539502400,MainProcess):2020-07-18-00:02:23.950.189 [mindspore/train/callback/_callback.py:52] update parameters in the net.\n",
      "[INFO] ME(27502:140200539502400,MainProcess):2020-07-18-00:02:24.153.21 [mindspore/train/serialization.py:262] Execute load parameter into net process.\n",
      "[INFO] ME(27502:140200539502400,MainProcess):2020-07-18-00:02:24.591.32 [mindspore/train/serialization.py:284] Load parameter into net finish, 0 parameters has not been loaded.\n",
      "[INFO] ME(27502:140200539502400,MainProcess):2020-07-18-00:02:24.632.58 [mindspore/train/serialization.py:138] Execute save checkpoint process.\n",
      "[INFO] ME(27502:140200539502400,MainProcess):2020-07-18-00:02:24.255.873 [mindspore/train/serialization.py:164] Save checkpoint process finish.\n"
     ]
    },
    {
     "name": "stdout",
     "output_type": "stream",
     "text": [
      "epoch: 3 step: 1875, loss is 0.6473\n",
      "Epoch time: 58604.997, per step time: 31.256, avg loss: 0.647\n",
      "************************************************************\n"
     ]
    },
    {
     "name": "stderr",
     "output_type": "stream",
     "text": [
      "[INFO] ME(27502:140200539502400,MainProcess):2020-07-18-00:03:22.548.058 [mindspore/train/callback/_callback.py:52] update parameters in the net.\n",
      "[INFO] ME(27502:140200539502400,MainProcess):2020-07-18-00:03:22.613.155 [mindspore/train/serialization.py:262] Execute load parameter into net process.\n",
      "[INFO] ME(27502:140200539502400,MainProcess):2020-07-18-00:03:22.664.126 [mindspore/train/serialization.py:284] Load parameter into net finish, 0 parameters has not been loaded.\n",
      "[INFO] ME(27502:140200539502400,MainProcess):2020-07-18-00:03:22.668.172 [mindspore/train/serialization.py:138] Execute save checkpoint process.\n",
      "[INFO] ME(27502:140200539502400,MainProcess):2020-07-18-00:03:22.858.740 [mindspore/train/serialization.py:164] Save checkpoint process finish.\n"
     ]
    },
    {
     "name": "stdout",
     "output_type": "stream",
     "text": [
      "epoch: 4 step: 1875, loss is 0.3235\n",
      "Epoch time: 58602.803, per step time: 31.255, avg loss: 0.324\n",
      "************************************************************\n"
     ]
    },
    {
     "name": "stderr",
     "output_type": "stream",
     "text": [
      "[INFO] ME(27502:140200539502400,MainProcess):2020-07-18-00:04:21.151.561 [mindspore/train/callback/_callback.py:52] update parameters in the net.\n",
      "[INFO] ME(27502:140200539502400,MainProcess):2020-07-18-00:04:21.215.250 [mindspore/train/serialization.py:262] Execute load parameter into net process.\n",
      "[INFO] ME(27502:140200539502400,MainProcess):2020-07-18-00:04:21.257.986 [mindspore/train/serialization.py:284] Load parameter into net finish, 0 parameters has not been loaded.\n",
      "[INFO] ME(27502:140200539502400,MainProcess):2020-07-18-00:04:21.261.961 [mindspore/train/serialization.py:138] Execute save checkpoint process.\n",
      "[INFO] ME(27502:140200539502400,MainProcess):2020-07-18-00:04:21.453.475 [mindspore/train/serialization.py:164] Save checkpoint process finish.\n"
     ]
    },
    {
     "name": "stdout",
     "output_type": "stream",
     "text": [
      "epoch: 5 step: 1875, loss is 0.4524\n",
      "Epoch time: 58594.759, per step time: 31.251, avg loss: 0.452\n",
      "************************************************************\n"
     ]
    },
    {
     "name": "stderr",
     "output_type": "stream",
     "text": [
      "[INFO] ME(27502:140200539502400,MainProcess):2020-07-18-00:05:19.749.137 [mindspore/train/callback/_callback.py:52] update parameters in the net.\n",
      "[INFO] ME(27502:140200539502400,MainProcess):2020-07-18-00:05:19.813.864 [mindspore/train/serialization.py:262] Execute load parameter into net process.\n",
      "[INFO] ME(27502:140200539502400,MainProcess):2020-07-18-00:05:19.857.466 [mindspore/train/serialization.py:284] Load parameter into net finish, 0 parameters has not been loaded.\n",
      "[INFO] ME(27502:140200539502400,MainProcess):2020-07-18-00:05:19.861.498 [mindspore/train/serialization.py:138] Execute save checkpoint process.\n",
      "[INFO] ME(27502:140200539502400,MainProcess):2020-07-18-00:05:20.542.51 [mindspore/train/serialization.py:164] Save checkpoint process finish.\n"
     ]
    },
    {
     "name": "stdout",
     "output_type": "stream",
     "text": [
      "epoch: 6 step: 1875, loss is 0.5436\n",
      "Epoch time: 58600.685, per step time: 31.254, avg loss: 0.544\n",
      "************************************************************\n"
     ]
    },
    {
     "name": "stderr",
     "output_type": "stream",
     "text": [
      "[INFO] ME(27502:140200539502400,MainProcess):2020-07-18-00:06:18.348.434 [mindspore/train/callback/_callback.py:52] update parameters in the net.\n",
      "[INFO] ME(27502:140200539502400,MainProcess):2020-07-18-00:06:18.412.409 [mindspore/train/serialization.py:262] Execute load parameter into net process.\n",
      "[INFO] ME(27502:140200539502400,MainProcess):2020-07-18-00:06:18.455.244 [mindspore/train/serialization.py:284] Load parameter into net finish, 0 parameters has not been loaded.\n",
      "[INFO] ME(27502:140200539502400,MainProcess):2020-07-18-00:06:18.459.279 [mindspore/train/serialization.py:138] Execute save checkpoint process.\n",
      "[INFO] ME(27502:140200539502400,MainProcess):2020-07-18-00:06:18.653.804 [mindspore/train/serialization.py:164] Save checkpoint process finish.\n"
     ]
    },
    {
     "name": "stdout",
     "output_type": "stream",
     "text": [
      "epoch: 7 step: 1875, loss is 0.3080\n",
      "Epoch time: 58599.470, per step time: 31.253, avg loss: 0.308\n",
      "************************************************************\n"
     ]
    },
    {
     "name": "stderr",
     "output_type": "stream",
     "text": [
      "[INFO] ME(27502:140200539502400,MainProcess):2020-07-18-00:07:16.948.524 [mindspore/train/callback/_callback.py:52] update parameters in the net.\n",
      "[INFO] ME(27502:140200539502400,MainProcess):2020-07-18-00:07:17.128.67 [mindspore/train/serialization.py:262] Execute load parameter into net process.\n",
      "[INFO] ME(27502:140200539502400,MainProcess):2020-07-18-00:07:17.584.99 [mindspore/train/serialization.py:284] Load parameter into net finish, 0 parameters has not been loaded.\n",
      "[INFO] ME(27502:140200539502400,MainProcess):2020-07-18-00:07:17.625.36 [mindspore/train/serialization.py:138] Execute save checkpoint process.\n",
      "[INFO] ME(27502:140200539502400,MainProcess):2020-07-18-00:07:17.254.278 [mindspore/train/serialization.py:164] Save checkpoint process finish.\n"
     ]
    },
    {
     "name": "stdout",
     "output_type": "stream",
     "text": [
      "epoch: 8 step: 1875, loss is 0.4420\n",
      "Epoch time: 58600.389, per step time: 31.254, avg loss: 0.442\n",
      "************************************************************\n"
     ]
    },
    {
     "name": "stderr",
     "output_type": "stream",
     "text": [
      "[INFO] ME(27502:140200539502400,MainProcess):2020-07-18-00:08:15.546.176 [mindspore/train/callback/_callback.py:52] update parameters in the net.\n",
      "[INFO] ME(27502:140200539502400,MainProcess):2020-07-18-00:08:15.611.947 [mindspore/train/serialization.py:262] Execute load parameter into net process.\n",
      "[INFO] ME(27502:140200539502400,MainProcess):2020-07-18-00:08:15.655.998 [mindspore/train/serialization.py:284] Load parameter into net finish, 0 parameters has not been loaded.\n",
      "[INFO] ME(27502:140200539502400,MainProcess):2020-07-18-00:08:15.660.156 [mindspore/train/serialization.py:138] Execute save checkpoint process.\n",
      "[INFO] ME(27502:140200539502400,MainProcess):2020-07-18-00:08:15.853.579 [mindspore/train/serialization.py:164] Save checkpoint process finish.\n"
     ]
    },
    {
     "name": "stdout",
     "output_type": "stream",
     "text": [
      "epoch: 9 step: 1875, loss is 0.2113\n",
      "Epoch time: 58599.249, per step time: 31.253, avg loss: 0.211\n",
      "************************************************************\n"
     ]
    },
    {
     "name": "stderr",
     "output_type": "stream",
     "text": [
      "[INFO] ME(27502:140200539502400,MainProcess):2020-07-18-00:09:14.147.518 [mindspore/train/callback/_callback.py:52] update parameters in the net.\n",
      "[INFO] ME(27502:140200539502400,MainProcess):2020-07-18-00:09:14.211.164 [mindspore/train/serialization.py:262] Execute load parameter into net process.\n",
      "[INFO] ME(27502:140200539502400,MainProcess):2020-07-18-00:09:14.257.088 [mindspore/train/serialization.py:284] Load parameter into net finish, 0 parameters has not been loaded.\n",
      "[INFO] ME(27502:140200539502400,MainProcess):2020-07-18-00:09:14.261.142 [mindspore/train/serialization.py:138] Execute save checkpoint process.\n",
      "[INFO] ME(27502:140200539502400,MainProcess):2020-07-18-00:09:14.437.118 [mindspore/train/serialization.py:164] Save checkpoint process finish.\n"
     ]
    },
    {
     "name": "stdout",
     "output_type": "stream",
     "text": [
      "epoch: 10 step: 1875, loss is 0.3720\n",
      "Epoch time: 58583.483, per step time: 31.245, avg loss: 0.372\n",
      "************************************************************\n"
     ]
    }
   ],
   "source": [
    "from mindspore.train.callback import ModelCheckpoint, CheckpointConfig, LossMonitor\n",
    "from mindspore.train.serialization import load_checkpoint, load_param_into_net\n",
    "\n",
    "model = Model(net, loss_fn=ls, optimizer=opt, metrics={'acc'})\n",
    "\n",
    "# As for train, users could use model.train\n",
    "if args_opt.do_train:\n",
    "    dataset = create_dataset(data_home)\n",
    "    batch_num = dataset.get_dataset_size()\n",
    "    config_ck = CheckpointConfig(save_checkpoint_steps=batch_num, keep_checkpoint_max=35)\n",
    "    ckpoint_cb = ModelCheckpoint(prefix=\"train_resnet_cifar10\", directory=\"./\", config=config_ck)\n",
    "    loss_cb = LossMonitor()\n",
    "    model.train(epoch_size, dataset, callbacks=[ckpoint_cb, loss_cb])"
   ]
  },
  {
   "cell_type": "markdown",
   "metadata": {},
   "source": [
    "## 加载保存的模型进行验证\n",
    "\n",
    "使用保存的模型，调用`model.eval`得到最终精度数据约为0.84远高于0.5，准确度较高，验证得出模型是性能较优的。"
   ]
  },
  {
   "cell_type": "code",
   "execution_count": 8,
   "metadata": {},
   "outputs": [
    {
     "name": "stdout",
     "output_type": "stream",
     "text": [
      "result:  {'acc': 0.8386833333333333}\n"
     ]
    }
   ],
   "source": [
    "# As for evaluation, users could use model.eval\n",
    "if args_opt.do_eval:\n",
    "    if args_opt.checkpoint_path:\n",
    "        param_dict = load_checkpoint(args_opt.checkpoint_path)\n",
    "        load_param_into_net(net, param_dict)\n",
    "    eval_dataset = create_dataset(1, training=False)\n",
    "    res = model.eval(eval_dataset)\n",
    "    print(\"result: \", res)"
   ]
  },
  {
   "cell_type": "markdown",
   "metadata": {},
   "source": [
    "## 总结\n",
    "\n",
    "本次体验，带领体验者了解了MindSpore的卷积神经网络ResNet-50，通过构建ResNet-50对CIFAR-10进行分类。可以看出MindSpore的ResNet-50的构建非常容易，损失函数和优化器都有封装好的API，对于初学者和研发人员都非常的友善。"
   ]
  }
 ],
 "metadata": {
  "kernelspec": {
   "display_name": "Python 3",
   "language": "python",
   "name": "python3"
  },
  "language_info": {
   "codemirror_mode": {
    "name": "ipython",
    "version": 3
   },
   "file_extension": ".py",
   "mimetype": "text/x-python",
   "name": "python",
   "nbconvert_exporter": "python",
   "pygments_lexer": "ipython3",
   "version": "3.7.6"
  }
 },
 "nbformat": 4,
 "nbformat_minor": 4
}
